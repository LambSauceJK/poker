{
 "cells": [
  {
   "cell_type": "code",
   "execution_count": 2,
   "metadata": {},
   "outputs": [
    {
     "data": {
      "text/plain": [
       "<module 'bot_players' from 'c:\\\\Users\\\\jarom\\\\OneDrive\\\\Dokumenty\\\\Coding\\\\Python\\\\projects\\\\poker\\\\bot_players.py'>"
      ]
     },
     "execution_count": 2,
     "metadata": {},
     "output_type": "execute_result"
    }
   ],
   "source": [
    "import poker_game as pg\n",
    "import matplotlib.pyplot as plt\n",
    "import bot_players as bots\n",
    "# from scipy.stats import chisquare, shapiro\n",
    "import numpy as np\n",
    "# from random import choice \n",
    "from importlib import reload\n",
    "reload(bots)"
   ]
  },
  {
   "cell_type": "code",
   "execution_count": 46,
   "metadata": {},
   "outputs": [
    {
     "name": "stdout",
     "output_type": "stream",
     "text": [
      "Evicka -0.4744525547445235\n",
      "Podvodnik 0.4744525547445235\n"
     ]
    }
   ],
   "source": [
    "start_money = 50\n",
    "game = pg.PokerGame(blind_increment = 2)\n",
    "players = [bots.EVBot(game, p_raise=0.7, p_call=0.3),\n",
    "            bots.CheaterBot(game)]\n",
    "game.initialise_players(players, shuffle=False)\n",
    "game.run_hands(n=10000)\n",
    "history = game.history\n",
    "for key, value in history.items():\n",
    "    print(key.name, np.average(value) - start_money)"
   ]
  },
  {
   "cell_type": "code",
   "execution_count": 49,
   "metadata": {},
   "outputs": [],
   "source": [
    "player_set = [bots.CallMachineBot, bots.HazardBot, bots.CheaterBot, bots.EVBot]\n",
    "vysledky = np.zeros((len(player_set), len(player_set)))\n",
    "for i, p1 in enumerate(player_set):\n",
    "    for j, p2 in enumerate(player_set[i+1:]):\n",
    "        game = pg.PokerGame(blind_increment = 2)\n",
    "        players = [p1(game), p2(game)]\n",
    "        game.initialise_players(players, shuffle=False)\n",
    "        game.run_hands(n=10000)\n",
    "        history = game.history\n",
    "        vysledky[i, j+i+1] = np.average(history[players[0]]) - start_money\n",
    "        vysledky[j+i+1, i] = np.average(history[players[1]]) - start_money"
   ]
  },
  {
   "cell_type": "code",
   "execution_count": 50,
   "metadata": {},
   "outputs": [
    {
     "data": {
      "image/png": "[encoded data removed]",
      "text/plain": [
       "<Figure size 640x480 with 2 Axes>"
      ]
     },
     "metadata": {},
     "output_type": "display_data"
    }
   ],
   "source": [
    "fig, ax = plt.subplots()\n",
    "im = ax.imshow(vysledky, cmap='bwr', interpolation='nearest')\n",
    "fig = fig.colorbar(im, ax=ax)\n",
    "for i in range(vysledky.shape[0]):\n",
    "    for j in range(vysledky.shape[1]):\n",
    "        c = round(vysledky[j,i], 1)\n",
    "        ax.text(i, j, str(c), va='center', ha='center')\n",
    "\n",
    "bot_names = [p(game).name for p in player_set]\n",
    "ax.set_xticks(np.arange(len(bot_names)))\n",
    "ax.set_xticklabels(bot_names)\n",
    "ax.set_yticks(np.arange(len(bot_names)))\n",
    "ax.set_yticklabels(bot_names)\n",
    "\n",
    "ax.xaxis.tick_top()\n",
    "ax.xaxis.set_label_position('top')\n"
   ]
  },
  {
   "cell_type": "code",
   "execution_count": null,
   "metadata": {},
   "outputs": [],
   "source": [
    "reload(bots)\n",
    "def jak_dobra_je_evicka(p_raise=0.6, p_call=0.4, n_sim=10):\n",
    "    # player_set = [bots.CheaterBot]\n",
    "    player_set = [bots.CallMachineBot, bots.HazardBot, bots.CheaterBot]\n",
    "    vysledky = np.zeros(len(player_set))\n",
    "    for i, p2 in enumerate(player_set):\n",
    "        game = pg.PokerGame(blind_increment = 2)\n",
    "        players = [bots.EVBot(game, p_raise=p_raise, p_call=p_call, n_sim=n_sim), p2(game)]\n",
    "        game.initialise_players(players, shuffle=False)\n",
    "        game.run_hands(n=1000)\n",
    "        history = game.history\n",
    "        vysledky[i] = np.average(history[players[0]]) - start_money\n",
    "    return vysledky"
   ]
  },
  {
   "cell_type": "code",
   "execution_count": 69,
   "metadata": {},
   "outputs": [
    {
     "name": "stdout",
     "output_type": "stream",
     "text": [
      "0.55 0.25 [ 0.01398601  2.48251748 -7.14985015]\n",
      "0.55 0.3 [ 0.08391608  2.92907093 -5.73026973]\n",
      "0.55 0.35 [ 0.05094905  3.10989011 -5.74625375]\n",
      "0.55 0.39999999999999997 [-0.04695305  3.62237762 -5.6013986 ]\n",
      "0.55 0.44999999999999996 [ 0.07192807  3.38461538 -5.92907093]\n",
      "0.6000000000000001 0.25 [ 0.1018981   1.53346653 -3.26773227]\n",
      "0.6000000000000001 0.3 [ 0.04395604  1.67232767 -3.64235764]\n",
      "0.6000000000000001 0.35 [-0.07292707  2.09490509 -3.09190809]\n",
      "0.6000000000000001 0.39999999999999997 [ 0.12587413  1.6033966  -2.94905095]\n",
      "0.6000000000000001 0.44999999999999996 [-0.11388611  0.85814186 -3.32567433]\n",
      "0.6500000000000001 0.25 [-0.01598402  1.07092907 -1.7982018 ]\n",
      "0.6500000000000001 0.3 [ 0.04595405  1.003996   -1.79020979]\n",
      "0.6500000000000001 0.35 [ 0.02097902  1.46353646 -1.93106893]\n",
      "0.6500000000000001 0.39999999999999997 [ 0.02197802  0.82017982 -1.68631369]\n",
      "0.6500000000000001 0.44999999999999996 [-0.11688312  0.31468531 -2.22577423]\n",
      "0.7000000000000002 0.25 [-0.03496503  0.81218781 -1.29370629]\n",
      "0.7000000000000002 0.3 [-0.02997003  0.71428571 -1.34765235]\n",
      "0.7000000000000002 0.35 [ 0.001998    0.44255744 -1.2007992 ]\n",
      "0.7000000000000002 0.39999999999999997 [-0.1038961   0.34665335 -1.1998002 ]\n",
      "0.7000000000000002 0.44999999999999996 [ 0.02497502  0.73926074 -0.98001998]\n",
      "0.7500000000000002 0.25 [ 0.03196803  0.52447552 -1.2027972 ]\n",
      "0.7500000000000002 0.3 [ 0.05294705  0.54345654 -0.84615385]\n",
      "0.7500000000000002 0.35 [-0.06893107  0.65434565 -1.22277722]\n",
      "0.7500000000000002 0.39999999999999997 [-0.07692308  0.24175824 -1.03596404]\n",
      "0.7500000000000002 0.44999999999999996 [ 9.99000999e-04  2.15784216e-01 -1.08191808e+00]\n",
      "[[-1.55 -0.91 -0.86 -0.68 -0.82]\n",
      " [-0.54 -0.64 -0.36 -0.41 -0.86]\n",
      " [-0.25 -0.25 -0.15 -0.28 -0.68]\n",
      " [-0.17 -0.22 -0.25 -0.32 -0.07]\n",
      " [-0.22 -0.08 -0.21 -0.29 -0.29]]\n"
     ]
    }
   ],
   "source": [
    "sila = np.zeros((5,5))\n",
    "for i, p1 in enumerate(np.arange(0.55, 0.8, 0.05)):\n",
    "    for j, p2 in enumerate(np.arange(0.25, 0.5, 0.05)):\n",
    "        fitness = jak_dobra_je_evicka(p_raise=p1, p_call=p2, n_sim=100)\n",
    "        print(p1, p2, fitness)\n",
    "        sila[i, j] = round(np.average(fitness),2) \n",
    "print(sila)"
   ]
  },
  {
   "cell_type": "code",
   "execution_count": 70,
   "metadata": {},
   "outputs": [
    {
     "name": "stdout",
     "output_type": "stream",
     "text": [
      "[[-1.55 -0.91 -0.86 -0.68 -0.82]\n",
      " [-0.54 -0.64 -0.36 -0.41 -0.86]\n",
      " [-0.25 -0.25 -0.15 -0.28 -0.68]\n",
      " [-0.17 -0.22 -0.25 -0.32 -0.07]\n",
      " [-0.22 -0.08 -0.21 -0.29 -0.29]]\n"
     ]
    }
   ],
   "source": [
    "print(sila)"
   ]
  },
  {
   "cell_type": "code",
   "execution_count": null,
   "metadata": {},
   "outputs": [],
   "source": [
    "p_raise = 0.66\n",
    "p_call = 0.33"
   ]
  },
  {
   "cell_type": "code",
   "execution_count": 79,
   "metadata": {},
   "outputs": [
    {
     "name": "stdout",
     "output_type": "stream",
     "text": [
      "0.3675632436756331\n"
     ]
    }
   ],
   "source": [
    "reload(bots)\n",
    "game = pg.PokerGame(blind_increment = 2)\n",
    "n_sim = 100\n",
    "players = [bots.EVBot(game, p_raise=0.66, p_call=0.33, n_sim=n_sim), \n",
    "           bots.EVBot(game, p_raise=0.5, p_call=0.33, n_sim=n_sim)]\n",
    "game.initialise_players(players, shuffle=False)\n",
    "game.run_hands(n=10000)\n",
    "history = game.history\n",
    "prumer = np.average(history[players[0]]) - start_money\n",
    "print(prumer)"
   ]
  },
  {
   "cell_type": "code",
   "execution_count": 80,
   "metadata": {},
   "outputs": [
    {
     "name": "stdout",
     "output_type": "stream",
     "text": [
      "-0.05039496050395087\n"
     ]
    }
   ],
   "source": [
    "reload(bots)\n",
    "game = pg.PokerGame(blind_increment = 2)\n",
    "n_sim = 100\n",
    "players = [bots.EVBot(game, p_raise=0.66, p_call=0.33, n_sim=n_sim), \n",
    "           bots.EVBot(game, p_raise=0.6, p_call=0.33, n_sim=n_sim)]\n",
    "game.initialise_players(players, shuffle=False)\n",
    "game.run_hands(n=10000)\n",
    "history = game.history\n",
    "prumer = np.average(history[players[0]]) - start_money\n",
    "print(prumer)"
   ]
  },
  {
   "cell_type": "code",
   "execution_count": 81,
   "metadata": {},
   "outputs": [
    {
     "name": "stdout",
     "output_type": "stream",
     "text": [
      "0.14018598140185645\n"
     ]
    }
   ],
   "source": [
    "reload(bots)\n",
    "game = pg.PokerGame(blind_increment = 2)\n",
    "n_sim = 100\n",
    "players = [bots.EVBot(game, p_raise=0.66, p_call=0.33, n_sim=n_sim), \n",
    "           bots.EVBot(game, p_raise=0.6, p_call=0.4, n_sim=n_sim)]\n",
    "game.initialise_players(players, shuffle=False)\n",
    "game.run_hands(n=10000)\n",
    "history = game.history\n",
    "prumer = np.average(history[players[0]]) - start_money\n",
    "print(prumer)"
   ]
  },
  {
   "cell_type": "code",
   "execution_count": 82,
   "metadata": {},
   "outputs": [
    {
     "name": "stdout",
     "output_type": "stream",
     "text": [
      "0.1511848815118455\n"
     ]
    }
   ],
   "source": [
    "reload(bots)\n",
    "game = pg.PokerGame(blind_increment = 2)\n",
    "n_sim = 100\n",
    "players = [bots.EVBot(game, p_raise=0.66, p_call=0.33, n_sim=n_sim), \n",
    "           bots.EVBot(game, p_raise=0.5, p_call=0.3, n_sim=n_sim)]\n",
    "game.initialise_players(players, shuffle=False)\n",
    "game.run_hands(n=10000)\n",
    "history = game.history\n",
    "prumer = np.average(history[players[0]]) - start_money\n",
    "print(prumer)"
   ]
  },
  {
   "cell_type": "code",
   "execution_count": 5,
   "metadata": {},
   "outputs": [
    {
     "name": "stdout",
     "output_type": "stream",
     "text": [
      "if isPair <= 1 then raise\n",
      "if highestCard >= 9 then raise\n",
      "else call\n"
     ]
    }
   ],
   "source": [
    "import fft_bot\n",
    "reload(fft_bot)\n",
    "game = pg.PokerGame(blind_increment = 2)\n",
    "fft_bot.AggressiveFFT(game).print_tree()"
   ]
  },
  {
   "cell_type": "code",
   "execution_count": 6,
   "metadata": {},
   "outputs": [
    {
     "name": "stdout",
     "output_type": "stream",
     "text": [
      "if isPair <= 1 then raise\n",
      "if lowestCard >= 9 then raise\n",
      "else call\n"
     ]
    }
   ],
   "source": [
    "fft_bot.PassiveFFT(game).print_tree()"
   ]
  }
 ],
 "metadata": {
  "kernelspec": {
   "display_name": "Python 3",
   "language": "python",
   "name": "python3"
  },
  "language_info": {
   "codemirror_mode": {
    "name": "ipython",
    "version": 3
   },
   "file_extension": ".py",
   "mimetype": "text/x-python",
   "name": "python",
   "nbconvert_exporter": "python",
   "pygments_lexer": "ipython3",
   "version": "3.11.2"
  }
 },
 "nbformat": 4,
 "nbformat_minor": 2
}
