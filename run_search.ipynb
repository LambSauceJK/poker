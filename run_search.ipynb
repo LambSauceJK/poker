{
 "cells": [
  {
   "cell_type": "code",
   "execution_count": 2,
   "metadata": {},
   "outputs": [],
   "source": [
    "import greedy_search\n",
    "from importlib import reload \n",
    "import bot_players as bots\n",
    "import json"
   ]
  },
  {
   "cell_type": "code",
   "execution_count": 31,
   "metadata": {},
   "outputs": [
    {
     "name": "stdout",
     "output_type": "stream",
     "text": [
      "isPair 1\n",
      "isPair -1\n",
      "isSameSuit 1\n",
      "isSameSuit -1\n",
      "highestCard -14\n",
      "highestCard -13\n",
      "highestCard -12\n",
      "highestCard -11\n",
      "highestCard -10\n",
      "highestCard -9\n",
      "highestCard -8\n",
      "highestCard -7\n",
      "highestCard -6\n",
      "highestCard -5\n",
      "highestCard -4\n",
      "highestCard -3\n",
      "highestCard 2\n",
      "highestCard 3\n",
      "highestCard 4\n",
      "highestCard 5\n",
      "highestCard 6\n",
      "highestCard 7\n",
      "highestCard 8\n",
      "highestCard 9\n",
      "highestCard 10\n",
      "highestCard 11\n",
      "highestCard 12\n",
      "highestCard 13\n",
      "lowestCard -14\n",
      "lowestCard -13\n",
      "lowestCard -12\n",
      "lowestCard -11\n",
      "lowestCard -10\n",
      "lowestCard -9\n",
      "lowestCard -8\n",
      "lowestCard -7\n",
      "lowestCard -6\n",
      "lowestCard -5\n",
      "lowestCard -4\n",
      "lowestCard -3\n",
      "lowestCard 2\n",
      "lowestCard 3\n",
      "lowestCard 4\n",
      "lowestCard 5\n",
      "lowestCard 6\n",
      "lowestCard 7\n",
      "lowestCard 8\n",
      "lowestCard 9\n",
      "lowestCard 10\n",
      "lowestCard 11\n",
      "lowestCard 12\n",
      "lowestCard 13\n",
      "totalPot -30\n",
      "totalPot -20\n",
      "totalPot -10\n",
      "totalPot 10\n",
      "totalPot 20\n",
      "totalPot 30\n"
     ]
    }
   ],
   "source": [
    "reload(greedy_search)\n",
    "searcher = greedy_search.GreedySearch(opponents=[bots.CallMachineBot])\n",
    "hands = 1000\n",
    "searcher.run_greedy_search(hands)"
   ]
  },
  {
   "cell_type": "code",
   "execution_count": 7,
   "metadata": {},
   "outputs": [
    {
     "name": "stdout",
     "output_type": "stream",
     "text": [
      "Greedy-Search 1000 hands\n",
      "if lowestCard <= 5 then raise\n",
      "else call\n",
      "fitness 0.1517857142857144\n"
     ]
    }
   ],
   "source": [
    "print(f\"Greedy-Search {hands} hands\")\n",
    "searcher.save_best(\"bots/greedy_tree.json\")\n",
    "searcher.best_tree.print_nodes()\n",
    "print(\"fitness\", searcher.best_fitness)"
   ]
  },
  {
   "cell_type": "code",
   "execution_count": 14,
   "metadata": {},
   "outputs": [
    {
     "data": {
      "text/plain": [
       "-0.004649535046496567"
      ]
     },
     "execution_count": 14,
     "metadata": {},
     "output_type": "execute_result"
    }
   ],
   "source": [
    "searcher.tree = searcher.best_tree\n",
    "searcher.hands = 10000\n",
    "searcher.find_fitness()"
   ]
  },
  {
   "cell_type": "code",
   "execution_count": 2,
   "metadata": {},
   "outputs": [
    {
     "name": "stdout",
     "output_type": "stream",
     "text": [
      "isPair 1\n"
     ]
    },
    {
     "ename": "",
     "evalue": "",
     "output_type": "error",
     "traceback": [
      "\u001b[1;31mThe Kernel crashed while executing code in the current cell or a previous cell. \n",
      "\u001b[1;31mPlease review the code in the cell(s) to identify a possible cause of the failure. \n",
      "\u001b[1;31mClick <a href='https://aka.ms/vscodeJupyterKernelCrash'>here</a> for more info. \n",
      "\u001b[1;31mView Jupyter <a href='command:jupyter.viewOutput'>log</a> for further details."
     ]
    }
   ],
   "source": [
    "reload(greedy_search)\n",
    "files = [\"call_machine\", \"hazard\", \"evicka\", \"cheater\", \"cheater_hands\", \"cheater_community\"]\n",
    "bot_players = [bots.CallMachineBot, bots.HazardBot, bots.EVBot, bots.CheaterBot, bots.CheaterHandsBot, bots.CheaterCommunityBot]\n",
    "hands = 100000\n",
    "for file, bot in zip(files, bot_players):\n",
    "    searcher = greedy_search.GreedySearch(opponents=[bot])\n",
    "    searcher.run_greedy_search(hands)\n",
    "    searcher.save_best(f\"bots/greedy/{file}.json\")"
   ]
  },
  {
   "cell_type": "code",
   "execution_count": 4,
   "metadata": {},
   "outputs": [
    {
     "name": "stdout",
     "output_type": "stream",
     "text": [
      "isPair 1\n",
      "isPair -1\n",
      "isSameSuit 1\n",
      "isSameSuit -1\n",
      "highestCard -14\n",
      "highestCard -13\n",
      "highestCard -12\n",
      "highestCard -11\n",
      "highestCard -10\n",
      "highestCard -9\n",
      "highestCard -8\n",
      "highestCard -7\n",
      "highestCard -6\n",
      "highestCard -5\n",
      "highestCard -4\n",
      "highestCard -3\n",
      "highestCard 2\n",
      "highestCard 3\n",
      "highestCard 4\n",
      "highestCard 5\n",
      "highestCard 6\n",
      "highestCard 7\n",
      "highestCard 8\n",
      "highestCard 9\n",
      "highestCard 10\n",
      "highestCard 11\n",
      "highestCard 12\n",
      "highestCard 13\n",
      "lowestCard -14\n",
      "lowestCard -13\n",
      "lowestCard -12\n",
      "lowestCard -11\n",
      "lowestCard -10\n",
      "lowestCard -9\n",
      "lowestCard -8\n",
      "lowestCard -7\n",
      "lowestCard -6\n",
      "lowestCard -5\n",
      "lowestCard -4\n",
      "lowestCard -3\n",
      "lowestCard 2\n",
      "lowestCard 3\n",
      "lowestCard 4\n",
      "lowestCard 5\n",
      "lowestCard 6\n",
      "lowestCard 7\n",
      "lowestCard 8\n",
      "lowestCard 9\n",
      "lowestCard 10\n",
      "lowestCard 11\n",
      "lowestCard 12\n",
      "lowestCard 13\n",
      "totalPot -30\n",
      "totalPot -20\n",
      "totalPot -10\n",
      "totalPot 10\n",
      "totalPot 20\n",
      "totalPot 30\n",
      "isPair 1\n",
      "isPair -1\n",
      "isSameSuit 1\n",
      "isSameSuit -1\n",
      "highestCard -14\n",
      "highestCard -13\n",
      "highestCard -12\n",
      "highestCard -11\n",
      "highestCard -10\n",
      "highestCard -9\n",
      "highestCard -8\n",
      "highestCard -7\n",
      "highestCard -6\n",
      "highestCard -5\n",
      "highestCard -4\n",
      "highestCard -3\n",
      "highestCard 2\n",
      "highestCard 3\n",
      "highestCard 4\n",
      "highestCard 5\n",
      "highestCard 6\n",
      "highestCard 7\n",
      "highestCard 8\n",
      "highestCard 9\n",
      "highestCard 10\n",
      "highestCard 11\n",
      "highestCard 12\n",
      "highestCard 13\n",
      "lowestCard -14\n",
      "lowestCard -13\n",
      "lowestCard -12\n",
      "lowestCard -11\n",
      "lowestCard -10\n",
      "lowestCard -9\n",
      "lowestCard -8\n",
      "lowestCard -7\n",
      "lowestCard -6\n",
      "lowestCard -5\n",
      "lowestCard -4\n",
      "lowestCard -3\n",
      "lowestCard 2\n",
      "lowestCard 3\n",
      "lowestCard 4\n",
      "lowestCard 5\n",
      "lowestCard 6\n",
      "lowestCard 7\n",
      "lowestCard 8\n",
      "lowestCard 9\n",
      "lowestCard 10\n",
      "lowestCard 11\n",
      "lowestCard 12\n",
      "lowestCard 13\n",
      "totalPot -30\n",
      "totalPot -20\n",
      "totalPot -10\n",
      "totalPot 10\n",
      "totalPot 20\n",
      "totalPot 30\n",
      "isPair 1\n",
      "isPair -1\n",
      "isSameSuit 1\n",
      "isSameSuit -1\n",
      "highestCard -14\n",
      "highestCard -13\n",
      "highestCard -12\n",
      "highestCard -11\n",
      "highestCard -10\n",
      "highestCard -9\n",
      "highestCard -8\n",
      "highestCard -7\n",
      "highestCard -6\n",
      "highestCard -5\n",
      "highestCard -4\n",
      "highestCard -3\n",
      "highestCard 2\n",
      "highestCard 3\n",
      "highestCard 4\n",
      "highestCard 5\n",
      "highestCard 6\n",
      "highestCard 7\n",
      "highestCard 8\n",
      "highestCard 9\n",
      "highestCard 10\n",
      "highestCard 11\n",
      "highestCard 12\n",
      "highestCard 13\n",
      "lowestCard -14\n",
      "lowestCard -13\n",
      "lowestCard -12\n",
      "lowestCard -11\n",
      "lowestCard -10\n",
      "lowestCard -9\n",
      "lowestCard -8\n",
      "lowestCard -7\n",
      "lowestCard -6\n",
      "lowestCard -5\n",
      "lowestCard -4\n",
      "lowestCard -3\n",
      "lowestCard 2\n",
      "lowestCard 3\n",
      "lowestCard 4\n",
      "lowestCard 5\n",
      "lowestCard 6\n",
      "lowestCard 7\n",
      "lowestCard 8\n",
      "lowestCard 9\n",
      "lowestCard 10\n",
      "lowestCard 11\n",
      "lowestCard 12\n",
      "lowestCard 13\n",
      "totalPot -30\n",
      "totalPot -20\n",
      "totalPot -10\n",
      "totalPot 10\n",
      "totalPot 20\n",
      "totalPot 30\n"
     ]
    }
   ],
   "source": [
    "reload(greedy_search)\n",
    "files = [\"call_machine\"]\n",
    "bot_players = [bots.CallMachineBot]\n",
    "hands = 100000\n",
    "for file, bot in zip(files, bot_players):\n",
    "    searcher = greedy_search.GreedySearch(opponents=[bot], filepath=f\"bots/greedy2/{file}.json\")\n",
    "    searcher.run_greedy_search(hands)\n",
    "    searcher.save_best(f\"bots/greedy3/{file}.json\")"
   ]
  },
  {
   "cell_type": "code",
   "execution_count": 16,
   "metadata": {},
   "outputs": [],
   "source": [
    "import fft\n",
    "import axis_aligned_search\n",
    "from importlib import reload\n",
    "import json"
   ]
  },
  {
   "cell_type": "code",
   "execution_count": null,
   "metadata": {},
   "outputs": [
    {
     "name": "stdout",
     "output_type": "stream",
     "text": [
      "if highestCard <= 11 lowestCard <= 7 then call\n",
      "if totalPot <= 2 then raise\n",
      "if isPair <= 1 then raise\n",
      "else call\n",
      "0.025786687065034952\n"
     ]
    }
   ],
   "source": [
    "reload(axis_aligned_search)\n",
    "my_fft = fft.FFT()\n",
    "my_fft.from_json(\"bots/first_fft.json\")\n",
    "my_fft.print_nodes()\n",
    "searcher = axis_aligned_search.AxisAlignedSearch()\n",
    "searcher.run_axis_search(hands = 100000, starting_tree = my_fft, worker_count=8)\n",
    "print(searcher.best_fitness)"
   ]
  },
  {
   "cell_type": "code",
   "execution_count": 13,
   "metadata": {},
   "outputs": [],
   "source": [
    "searcher.save_to_json(\"bots/axis_forest.json\")    "
   ]
  },
  {
   "cell_type": "code",
   "execution_count": 12,
   "metadata": {},
   "outputs": [
    {
     "name": "stdout",
     "output_type": "stream",
     "text": [
      "if highestCard <= 14 lowestCard <= 7 then call\n",
      "if totalPot <= 2 then raise\n",
      "if isPair <= 1 then raise\n",
      "else call\n",
      "fitness 0.025786687065034952\n"
     ]
    }
   ],
   "source": [
    "searcher.best_tree.print_nodes()\n",
    "print(\"fitness\", searcher.best_fitness)"
   ]
  },
  {
   "cell_type": "code",
   "execution_count": 25,
   "metadata": {},
   "outputs": [
    {
     "data": {
      "text/plain": [
       "<module 'axis_aligned_search' from 'c:\\\\Users\\\\jarom\\\\OneDrive\\\\Dokumenty\\\\Coding\\\\Python\\\\projects\\\\poker\\\\axis_aligned_search.py'>"
      ]
     },
     "execution_count": 25,
     "metadata": {},
     "output_type": "execute_result"
    }
   ],
   "source": [
    "reload(axis_aligned_search)"
   ]
  },
  {
   "cell_type": "code",
   "execution_count": 29,
   "metadata": {},
   "outputs": [
    {
     "name": "stdout",
     "output_type": "stream",
     "text": [
      "if highestCard <= 3 then call\n",
      "if lowestCard >= 6 then raise\n",
      "if highestCard >= 13 then raise\n",
      "else call\n",
      "\n",
      "if highestCard <= 4 then call\n",
      "if lowestCard >= 6 then raise\n",
      "if highestCard >= 13 then raise\n",
      "else call\n",
      "fitness 0.04673626109911133\n",
      "\n",
      "-----------\n",
      "\n",
      "if highestCard >= 11 then raise\n",
      "if isPair <= 1 lowestCard <= 13 then raise\n",
      "else call\n",
      "\n",
      "if highestCard >= 11 then raise\n",
      "if isPair <= 1 lowestCard <= 13 then raise\n",
      "else call\n",
      "fitness 1.352291816654668\n",
      "\n",
      "-----------\n",
      "\n",
      "if lowestCard <= 12 then call\n",
      "if lowestCard >= 6 then raise\n",
      "else raise\n",
      "\n",
      "if lowestCard <= 12 then call\n",
      "if lowestCard >= 10 then raise\n",
      "else raise\n",
      "fitness 0.05104591632669342\n",
      "\n",
      "-----------\n",
      "\n",
      "if highestCard >= 7 lowestCard >= 9 then raise\n",
      "if totalPot >= 30 then raise\n",
      "if totalPot >= 10 then call\n",
      "else raise\n",
      "\n",
      "if highestCard >= 7 lowestCard >= 11 then raise\n",
      "if totalPot >= 30 then raise\n",
      "if totalPot >= 10 then call\n",
      "else raise\n",
      "fitness 0.23689104871610267\n",
      "\n",
      "-----------\n",
      "\n"
     ]
    }
   ],
   "source": [
    "with open(\"./bots/best_gs_bots.json\", \"r\") as file:\n",
    "    trees = json.load(file)\n",
    "opponents = [bots.CallMachineBot, bots.HazardBot, bots.CheaterHandsBot, bots.EVBot]\n",
    "for tree, opponent in zip(trees, opponents):\n",
    "    my_fft = fft.FFT()\n",
    "    my_fft.from_dict(tree)\n",
    "    my_fft.print_nodes()\n",
    "    print()\n",
    "    searcher = axis_aligned_search.AxisAlignedSearch()\n",
    "    searcher.run_axis_search(hands = 100000, starting_tree = my_fft, opponents=[opponent], worker_count=8)\n",
    "    searcher.best_tree.print_nodes()\n",
    "    print(\"fitness\", searcher.best_fitness)\n",
    "    print(\"\\n-----------\\n\")"
   ]
  },
  {
   "cell_type": "code",
   "execution_count": 8,
   "metadata": {},
   "outputs": [],
   "source": [
    "import fft\n",
    "import fitness"
   ]
  },
  {
   "cell_type": "code",
   "execution_count": 9,
   "metadata": {},
   "outputs": [
    {
     "name": "stdout",
     "output_type": "stream",
     "text": [
      "greedy call_machine\n",
      "if highestCard >= 12 then raise\n",
      "else call\n",
      "0.044269557304428275\n",
      "\n",
      "-----------------\n",
      "\n",
      "greedy hazard\n",
      "if highestCard >= 12 then raise\n",
      "else call\n",
      "1.1464885351146492\n",
      "\n",
      "-----------------\n",
      "\n",
      "greedy evicka\n",
      "if lowestCard >= 10 then raise\n",
      "else call\n",
      "0.16637833621663844\n",
      "\n",
      "-----------------\n",
      "\n",
      "greedy cheater\n",
      "if totalPot >= 20 then raise\n",
      "else call\n",
      "-0.4754752452475479\n",
      "\n",
      "-----------------\n",
      "\n",
      "greedy cheater_hands\n",
      "if highestCard >= 14 then raise\n",
      "else call\n",
      "0.043689563104369\n",
      "\n",
      "-----------------\n",
      "\n",
      "greedy cheater_community\n",
      "if totalPot >= 20 then raise\n",
      "else call\n",
      "-0.0980790192098091\n",
      "\n",
      "-----------------\n",
      "\n",
      "greedy2 call_machine\n",
      "if highestCard >= 12 then raise\n",
      "if lowestCard >= 7 then raise\n",
      "else call\n",
      "0.032249677503223495\n",
      "\n",
      "-----------------\n",
      "\n",
      "greedy2 hazard\n",
      "if highestCard >= 12 then raise\n",
      "if lowestCard >= 8 then raise\n",
      "else call\n",
      "1.2941470585294148\n",
      "\n",
      "-----------------\n",
      "\n",
      "greedy2 evicka\n",
      "if lowestCard >= 10 then raise\n",
      "if totalPot <= 10 then raise\n",
      "else call\n",
      "0.22350776492234914\n",
      "\n",
      "-----------------\n",
      "\n",
      "greedy2 cheater\n",
      "if totalPot >= 20 then raise\n",
      "if highestCard >= 13 then call\n",
      "else call\n",
      "-0.46980530194698034\n",
      "\n",
      "-----------------\n",
      "\n",
      "greedy2 cheater_hands\n",
      "if highestCard >= 14 then raise\n",
      "if isPair <= 1 then raise\n",
      "else call\n",
      "0.06577934220657866\n",
      "\n",
      "-----------------\n",
      "\n",
      "greedy2 cheater_community\n",
      "if totalPot >= 20 then raise\n",
      "if highestCard <= 11 then call\n",
      "else call\n",
      "-0.09539904600953975\n",
      "\n",
      "-----------------\n",
      "\n"
     ]
    }
   ],
   "source": [
    "files = [\"call_machine\", \"hazard\", \"evicka\", \"cheater\", \"cheater_hands\", \"cheater_community\"]\n",
    "opponents = [bots.CallMachineBot, bots.HazardBot, bots.EVBot, bots.CheaterBot, bots.CheaterHandsBot, bots.CheaterCommunityBot]\n",
    "for folder in [\"greedy\", \"greedy2\"]:\n",
    "    for filename, opponent in zip(files, opponents):\n",
    "        with open(f\"./bots/{folder}/{filename}.json\") as file:\n",
    "            bot_info = json.load(file)\n",
    "        tree = fft.FFT()\n",
    "        tree.from_dict(bot_info)\n",
    "        print(folder, filename)\n",
    "        tree.print_nodes()\n",
    "        fit = fitness.calculate_fft_fitness(tree, opponents=[opponent], hands=100000)\n",
    "        print(fit)\n",
    "        print(\"\\n-----------------\\n\")"
   ]
  }
 ],
 "metadata": {
  "kernelspec": {
   "display_name": "Python 3",
   "language": "python",
   "name": "python3"
  },
  "language_info": {
   "codemirror_mode": {
    "name": "ipython",
    "version": 3
   },
   "file_extension": ".py",
   "mimetype": "text/x-python",
   "name": "python",
   "nbconvert_exporter": "python",
   "pygments_lexer": "ipython3",
   "version": "3.11.2"
  }
 },
 "nbformat": 4,
 "nbformat_minor": 2
}
