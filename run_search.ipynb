{
 "cells": [
  {
   "cell_type": "code",
   "execution_count": 1,
   "metadata": {},
   "outputs": [],
   "source": [
    "import greedy_search\n",
    "import axis_aligned_search\n",
    "import numpy as np\n",
    "from importlib import reload "
   ]
  },
  {
   "cell_type": "code",
   "execution_count": null,
   "metadata": {},
   "outputs": [
    {
     "name": "stdout",
     "output_type": "stream",
     "text": [
      "isPair 1\n",
      "isPair -1\n",
      "isSameSuit 1\n",
      "isSameSuit -1\n",
      "highestCard -14\n",
      "highestCard -13\n",
      "highestCard -12\n",
      "highestCard -11\n",
      "highestCard -10\n",
      "highestCard -9\n",
      "highestCard -8\n",
      "highestCard -7\n",
      "highestCard -6\n",
      "highestCard -5\n",
      "highestCard -4\n",
      "highestCard -3\n",
      "highestCard -2\n",
      "highestCard 2\n",
      "highestCard 3\n",
      "highestCard 4\n",
      "highestCard 5\n",
      "highestCard 6\n",
      "highestCard 7\n",
      "highestCard 8\n",
      "highestCard 9\n",
      "highestCard 10\n",
      "highestCard 11\n",
      "highestCard 12\n",
      "highestCard 13\n",
      "highestCard 14\n",
      "lowestCard -14\n",
      "lowestCard -13\n",
      "lowestCard -12\n",
      "lowestCard -11\n",
      "lowestCard -10\n",
      "lowestCard -9\n",
      "lowestCard -8\n",
      "lowestCard -7\n",
      "lowestCard -6\n",
      "lowestCard -5\n",
      "lowestCard -4\n",
      "lowestCard -3\n",
      "lowestCard -2\n",
      "lowestCard 2\n",
      "lowestCard 3\n",
      "lowestCard 4\n",
      "lowestCard 5\n",
      "lowestCard 6\n",
      "lowestCard 7\n",
      "lowestCard 8\n",
      "lowestCard 9\n",
      "lowestCard 10\n",
      "lowestCard 11\n",
      "lowestCard 12\n",
      "lowestCard 13\n",
      "lowestCard 14\n",
      "cardDifference -6\n",
      "cardDifference -5\n",
      "cardDifference -4\n",
      "cardDifference -3\n",
      "cardDifference -2\n",
      "cardDifference -1\n",
      "cardDifference 1\n",
      "cardDifference 2\n",
      "cardDifference 3\n",
      "cardDifference 4\n",
      "cardDifference 5\n",
      "cardDifference 6\n",
      "totalPot 2\n",
      "totalPot 4\n",
      "totalPot 6\n",
      "totalPot 8\n",
      "totalPot 10\n"
     ]
    }
   ],
   "source": [
    "reload(greedy_search)\n",
    "searcher = greedy_search.GreedySearch()\n",
    "hands = 1000\n",
    "searcher.run_greedy_search(hands)"
   ]
  },
  {
   "cell_type": "code",
   "execution_count": 5,
   "metadata": {},
   "outputs": [
    {
     "name": "stdout",
     "output_type": "stream",
     "text": [
      "Greedy-Search 100000 hands\n",
      "if lowestCard >= 5 then raise\n",
      "else call\n",
      "fitness 0.022944770552292937\n"
     ]
    }
   ],
   "source": [
    "print(f\"Greedy-Search {hands} hands\")\n",
    "searcher.save_best(\"bots/greedy_tree.json\")\n",
    "searcher.best_tree.print_nodes()\n",
    "print(\"fitness\", searcher.best_fitness)"
   ]
  },
  {
   "cell_type": "code",
   "execution_count": 14,
   "metadata": {},
   "outputs": [
    {
     "data": {
      "text/plain": [
       "-0.004649535046496567"
      ]
     },
     "execution_count": 14,
     "metadata": {},
     "output_type": "execute_result"
    }
   ],
   "source": [
    "searcher.tree = searcher.best_tree\n",
    "searcher.hands = 10000\n",
    "searcher.find_fitness()"
   ]
  },
  {
   "cell_type": "code",
   "execution_count": 1,
   "metadata": {},
   "outputs": [],
   "source": [
    "import fft\n",
    "import axis_aligned_search\n",
    "import fitness\n",
    "from importlib import reload"
   ]
  },
  {
   "cell_type": "code",
   "execution_count": 11,
   "metadata": {},
   "outputs": [
    {
     "name": "stdout",
     "output_type": "stream",
     "text": [
      "if highestCard <= 11 lowestCard <= 7 then call\n",
      "if totalPot <= 2 then raise\n",
      "if isPair <= 1 then raise\n",
      "else call\n",
      "0.025786687065034952\n"
     ]
    }
   ],
   "source": [
    "reload(axis_aligned_search)\n",
    "reload(fitness)\n",
    "my_fft = fft.FFT()\n",
    "my_fft.from_json(\"bots/first_fft.json\")\n",
    "my_fft.print_nodes()\n",
    "searcher = axis_aligned_search.AxisAlignedSearch()\n",
    "searcher.run_axis_search(hands = 100000, starting_tree = my_fft, worker_count=8)\n",
    "print(searcher.best_fitness)"
   ]
  },
  {
   "cell_type": "code",
   "execution_count": 7,
   "metadata": {},
   "outputs": [],
   "source": [
    "# reload(axis_aligned_search)\n",
    "# best_fitness = -np.inf\n",
    "# for i in range(10):\n",
    "#     searcher = axis_aligned_search.AxisAlignedSearch()\n",
    "#     searcher.run_axis_search(hands=100, statements=3, worker_count=1)\n",
    "#     if searcher.best_fitness > best_fitness:\n",
    "#         best_fitness = searcher.best_fitness\n",
    "#         searcher.best_tree.print_nodes()\n",
    "#         print(\"fitness\", searcher.best_fitness)"
   ]
  },
  {
   "cell_type": "code",
   "execution_count": 13,
   "metadata": {},
   "outputs": [],
   "source": [
    "searcher.save_to_json(\"bots/axis_forest.json\")    "
   ]
  },
  {
   "cell_type": "code",
   "execution_count": 12,
   "metadata": {},
   "outputs": [
    {
     "name": "stdout",
     "output_type": "stream",
     "text": [
      "if highestCard <= 14 lowestCard <= 7 then call\n",
      "if totalPot <= 2 then raise\n",
      "if isPair <= 1 then raise\n",
      "else call\n",
      "fitness 0.025786687065034952\n"
     ]
    }
   ],
   "source": [
    "searcher.best_tree.print_nodes()\n",
    "print(\"fitness\", searcher.best_fitness)"
   ]
  },
  {
   "cell_type": "code",
   "execution_count": null,
   "metadata": {},
   "outputs": [],
   "source": []
  }
 ],
 "metadata": {
  "kernelspec": {
   "display_name": "Python 3",
   "language": "python",
   "name": "python3"
  },
  "language_info": {
   "codemirror_mode": {
    "name": "ipython",
    "version": 3
   },
   "file_extension": ".py",
   "mimetype": "text/x-python",
   "name": "python",
   "nbconvert_exporter": "python",
   "pygments_lexer": "ipython3",
   "version": "3.11.2"
  }
 },
 "nbformat": 4,
 "nbformat_minor": 2
}
