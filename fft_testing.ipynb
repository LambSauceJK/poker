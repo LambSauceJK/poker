{
 "cells": [
  {
   "cell_type": "code",
   "execution_count": 1,
   "metadata": {},
   "outputs": [
    {
     "data": {
      "text/plain": [
       "<module 'fft' from 'c:\\\\Users\\\\jarom\\\\OneDrive\\\\Dokumenty\\\\Coding\\\\Python\\\\projects\\\\poker\\\\fft.py'>"
      ]
     },
     "execution_count": 1,
     "metadata": {},
     "output_type": "execute_result"
    }
   ],
   "source": [
    "import fft\n",
    "from importlib import reload \n",
    "reload(fft)\n"
   ]
  },
  {
   "cell_type": "code",
   "execution_count": 2,
   "metadata": {},
   "outputs": [
    {
     "name": "stdout",
     "output_type": "stream",
     "text": [
      "if highestCard <= 11 lowestCard <= 7 then call\n",
      "if totalPot <= 2 then raise\n",
      "if isPair <= 1 then raise\n",
      "else call\n",
      "statements 4\n",
      "complexity 8\n"
     ]
    }
   ],
   "source": [
    "reload(fft)\n",
    "\n",
    "tree = fft.FFT()\n",
    "tree.from_json(\"bots/first_fft.json\")\n",
    "tree.print_nodes()\n",
    "print(\"statements\", tree.count_statements())\n",
    "print(\"complexity\", tree.count_complexity())"
   ]
  },
  {
   "cell_type": "code",
   "execution_count": 3,
   "metadata": {},
   "outputs": [
    {
     "name": "stdout",
     "output_type": "stream",
     "text": [
      "if isPair <= 1 then call\n",
      "if lowestCard <= 6 cardDifference >= 5 then call\n",
      "if highestCard >= 6 then raise\n",
      "else fold\n",
      "statements 4\n",
      "complexity 8\n"
     ]
    }
   ],
   "source": [
    "tree.randomize_statements()\n",
    "tree.print_nodes()\n",
    "print(\"statements\", tree.count_statements())\n",
    "print(\"complexity\", tree.count_complexity())"
   ]
  },
  {
   "cell_type": "code",
   "execution_count": 4,
   "metadata": {},
   "outputs": [
    {
     "name": "stdout",
     "output_type": "stream",
     "text": [
      "if highestCard <= 8 totalPot <= 6 then raise\n",
      "if isPair <= 1 lowestCard >= 9 then call\n",
      "if isPair <= 1 cardDifference >= 4 then call\n",
      "if highestCard >= 13 then fold\n",
      "else fold\n",
      "statements 5\n",
      "complexity 12\n"
     ]
    }
   ],
   "source": [
    "reload(fft)\n",
    "\n",
    "tree = fft.FFT()\n",
    "tree.create_tree()\n",
    "tree.randomize_statements()\n",
    "tree.print_nodes()\n",
    "print(\"statements\", tree.count_statements())\n",
    "print(\"complexity\", tree.count_complexity())"
   ]
  },
  {
   "cell_type": "code",
   "execution_count": 5,
   "metadata": {},
   "outputs": [],
   "source": [
    "tree.to_json(\"bots/random_fft.json\")"
   ]
  },
  {
   "cell_type": "code",
   "execution_count": 6,
   "metadata": {},
   "outputs": [
    {
     "name": "stdout",
     "output_type": "stream",
     "text": [
      "if highestCard <= 8 totalPot <= 6 then raise\n",
      "if isPair <= 1 lowestCard >= 9 then call\n",
      "if isPair <= 1 cardDifference >= 4 then call\n",
      "if cardDifference >= 1 totalPot <= 8 then raise\n",
      "else fold\n"
     ]
    }
   ],
   "source": [
    "tree.mutate_random_node()\n",
    "tree.print_nodes()"
   ]
  },
  {
   "cell_type": "code",
   "execution_count": 1,
   "metadata": {},
   "outputs": [],
   "source": [
    "import numpy as np\n",
    "import poker_game as pg\n",
    "import bot_players as bots\n",
    "import time\n",
    "import fft_bot\n",
    "import fitness\n",
    "from importlib import reload"
   ]
  },
  {
   "cell_type": "code",
   "execution_count": 2,
   "metadata": {},
   "outputs": [],
   "source": [
    "reload(bots)\n",
    "reload(fft_bot)\n",
    "def calculate_fitness(bot, opponents = [bots.CallMachineBot, bots.HazardBot, bots.CheaterBot, bots.EVBot], hands = 1000):\n",
    "    start_money = 50\n",
    "    average = np.zeros(len(opponents))\n",
    "    std_dev = np.zeros(len(opponents))\n",
    "    for i, p2 in enumerate(opponents):\n",
    "        game = pg.PokerGame(blind_increment = 2)\n",
    "        players = [bot(game, money=start_money, filepath=\"bots/first_fft.json\"), p2(game, money=start_money)]\n",
    "        game.initialise_players(players, shuffle=False)\n",
    "        start_time = time.time()\n",
    "        game.run_hands(n=hands)\n",
    "        run_time = time.time() - start_time\n",
    "        history = game.history\n",
    "        average[i] = np.average(history[players[0]]) - start_money\n",
    "        std_dev[i] = np.std(history[players[0]])\n",
    "        print(players[1].name, round(average[i], 2), \"+-\", round(std_dev[i], 2), \"    cas\", round(run_time, 2))\n",
    "    \n",
    "    return np.sum(average)"
   ]
  },
  {
   "cell_type": "code",
   "execution_count": 10,
   "metadata": {},
   "outputs": [
    {
     "name": "stdout",
     "output_type": "stream",
     "text": [
      "Dorovnavac 0.03 +- 2.25     cas 17.77\n",
      "Hazarder 0.98 +- 9.63     cas 23.77\n",
      "Podvodnik -1.19 +- 4.77     cas 23.2\n",
      "Evicka 0.3 +- 4.42     cas 86.81\n",
      "0.110669\n"
     ]
    }
   ],
   "source": [
    "# EVBot random.shuffle\n",
    "bot = fft_bot.FFTBot\n",
    "fit = calculate_fitness(bot, hands=100000)\n",
    "print(f\"{fit:2f}\")"
   ]
  },
  {
   "cell_type": "code",
   "execution_count": 3,
   "metadata": {},
   "outputs": [
    {
     "name": "stdout",
     "output_type": "stream",
     "text": [
      "Dorovnavac 0.04 +- 2.25     cas 18.08\n",
      "Hazarder 0.9 +- 9.4     cas 19.89\n",
      "Podvodnik -1.21 +- 4.78     cas 20.18\n",
      "Evicka 0.32 +- 4.59     cas 75.29\n",
      "0.046880\n"
     ]
    }
   ],
   "source": [
    "# EVBot random.sample\n",
    "bot = fft_bot.FFTBot\n",
    "fit = calculate_fitness(bot, hands=100000)\n",
    "print(f\"{fit:2f}\")"
   ]
  },
  {
   "cell_type": "code",
   "execution_count": 28,
   "metadata": {},
   "outputs": [
    {
     "name": "stdout",
     "output_type": "stream",
     "text": [
      "if highestCard <= 11 lowestCard <= 7 then call\n",
      "if totalPot <= 2 then raise\n",
      "if isPair <= 1 then raise\n",
      "else call\n",
      "Worker count: 8\n",
      "-0.00036747060235287066\n",
      "Execution time 20.69\n"
     ]
    }
   ],
   "source": [
    "reload(fitness)\n",
    "tree = fft.FFT()\n",
    "tree.from_json(\"bots/first_fft.json\")\n",
    "tree.print_nodes()\n",
    "calculator = fitness.FitnessCalculator(tree, hands=100000, worker_count=8)\n",
    "calculator.create_workers()\n",
    "start = time.time()\n",
    "print(calculator.run_workers())\n",
    "print(f\"Execution time {time.time() - start:.2f}\")"
   ]
  }
 ],
 "metadata": {
  "kernelspec": {
   "display_name": "Python 3",
   "language": "python",
   "name": "python3"
  },
  "language_info": {
   "codemirror_mode": {
    "name": "ipython",
    "version": 3
   },
   "file_extension": ".py",
   "mimetype": "text/x-python",
   "name": "python",
   "nbconvert_exporter": "python",
   "pygments_lexer": "ipython3",
   "version": "3.11.2"
  }
 },
 "nbformat": 4,
 "nbformat_minor": 2
}
