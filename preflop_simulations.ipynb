{
 "cells": [
  {
   "cell_type": "code",
   "execution_count": 15,
   "metadata": {},
   "outputs": [],
   "source": [
    "import simulation_environment\n",
    "from constants import SUITS, VALUES\n",
    "from card import Card\n",
    "from deck import Deck\n",
    "import numpy as np"
   ]
  },
  {
   "cell_type": "code",
   "execution_count": 17,
   "metadata": {},
   "outputs": [],
   "source": [
    "se = simulation_environment.SimulationEnvironment()"
   ]
  },
  {
   "cell_type": "code",
   "execution_count": 18,
   "metadata": {},
   "outputs": [
    {
     "name": "stdout",
     "output_type": "stream",
     "text": [
      "['A', 'K', 'Q', 'J', '10', '9', '8', '7', '6', '5', '4', '3', '2']\n"
     ]
    }
   ],
   "source": [
    "print(VALUES)"
   ]
  },
  {
   "cell_type": "code",
   "execution_count": 19,
   "metadata": {},
   "outputs": [
    {
     "name": "stdout",
     "output_type": "stream",
     "text": [
      "[[[A♠, K♠], [A♠, Q♠], [A♠, J♠], [A♠, 10♠], [A♠, 9♠], [A♠, 8♠], [A♠, 7♠], [A♠, 6♠], [A♠, 5♠], [A♠, 4♠], [A♠, 3♠], [A♠, 2♠], [K♠, Q♠], [K♠, J♠], [K♠, 10♠], [K♠, 9♠], [K♠, 8♠], [K♠, 7♠], [K♠, 6♠], [K♠, 5♠], [K♠, 4♠], [K♠, 3♠], [K♠, 2♠], [Q♠, J♠], [Q♠, 10♠], [Q♠, 9♠], [Q♠, 8♠], [Q♠, 7♠], [Q♠, 6♠], [Q♠, 5♠], [Q♠, 4♠], [Q♠, 3♠], [Q♠, 2♠], [J♠, 10♠], [J♠, 9♠], [J♠, 8♠], [J♠, 7♠], [J♠, 6♠], [J♠, 5♠], [J♠, 4♠], [J♠, 3♠], [J♠, 2♠], [10♠, 9♠], [10♠, 8♠], [10♠, 7♠], [10♠, 6♠], [10♠, 5♠], [10♠, 4♠], [10♠, 3♠], [10♠, 2♠], [9♠, 8♠], [9♠, 7♠], [9♠, 6♠], [9♠, 5♠], [9♠, 4♠], [9♠, 3♠], [9♠, 2♠], [8♠, 7♠], [8♠, 6♠], [8♠, 5♠], [8♠, 4♠], [8♠, 3♠], [8♠, 2♠], [7♠, 6♠], [7♠, 5♠], [7♠, 4♠], [7♠, 3♠], [7♠, 2♠], [6♠, 5♠], [6♠, 4♠], [6♠, 3♠], [6♠, 2♠], [5♠, 4♠], [5♠, 3♠], [5♠, 2♠], [4♠, 3♠], [4♠, 2♠], [3♠, 2♠], [A♠, K♧], [A♠, Q♧], [A♠, J♧], [A♠, 10♧], [A♠, 9♧], [A♠, 8♧], [A♠, 7♧], [A♠, 6♧], [A♠, 5♧], [A♠, 4♧], [A♠, 3♧], [A♠, 2♧], [K♠, Q♧], [K♠, J♧], [K♠, 10♧], [K♠, 9♧], [K♠, 8♧], [K♠, 7♧], [K♠, 6♧], [K♠, 5♧], [K♠, 4♧], [K♠, 3♧], [K♠, 2♧], [Q♠, J♧], [Q♠, 10♧], [Q♠, 9♧], [Q♠, 8♧], [Q♠, 7♧], [Q♠, 6♧], [Q♠, 5♧], [Q♠, 4♧], [Q♠, 3♧], [Q♠, 2♧], [J♠, 10♧], [J♠, 9♧], [J♠, 8♧], [J♠, 7♧], [J♠, 6♧], [J♠, 5♧], [J♠, 4♧], [J♠, 3♧], [J♠, 2♧], [10♠, 9♧], [10♠, 8♧], [10♠, 7♧], [10♠, 6♧], [10♠, 5♧], [10♠, 4♧], [10♠, 3♧], [10♠, 2♧], [9♠, 8♧], [9♠, 7♧], [9♠, 6♧], [9♠, 5♧], [9♠, 4♧], [9♠, 3♧], [9♠, 2♧], [8♠, 7♧], [8♠, 6♧], [8♠, 5♧], [8♠, 4♧], [8♠, 3♧], [8♠, 2♧], [7♠, 6♧], [7♠, 5♧], [7♠, 4♧], [7♠, 3♧], [7♠, 2♧], [6♠, 5♧], [6♠, 4♧], [6♠, 3♧], [6♠, 2♧], [5♠, 4♧], [5♠, 3♧], [5♠, 2♧], [4♠, 3♧], [4♠, 2♧], [3♠, 2♧], [A♠, A♥], [K♠, K♥], [Q♠, Q♥], [J♠, J♥], [10♠, 10♥], [9♠, 9♥], [8♠, 8♥], [7♠, 7♥], [6♠, 6♥], [5♠, 5♥], [4♠, 4♥], [3♠, 3♥], [2♠, 2♥]], [[A♢, K♢], [A♢, Q♢], [A♢, J♢], [A♢, 10♢], [A♢, 9♢], [A♢, 8♢], [A♢, 7♢], [A♢, 6♢], [A♢, 5♢], [A♢, 4♢], [A♢, 3♢], [A♢, 2♢], [K♢, Q♢], [K♢, J♢], [K♢, 10♢], [K♢, 9♢], [K♢, 8♢], [K♢, 7♢], [K♢, 6♢], [K♢, 5♢], [K♢, 4♢], [K♢, 3♢], [K♢, 2♢], [Q♢, J♢], [Q♢, 10♢], [Q♢, 9♢], [Q♢, 8♢], [Q♢, 7♢], [Q♢, 6♢], [Q♢, 5♢], [Q♢, 4♢], [Q♢, 3♢], [Q♢, 2♢], [J♢, 10♢], [J♢, 9♢], [J♢, 8♢], [J♢, 7♢], [J♢, 6♢], [J♢, 5♢], [J♢, 4♢], [J♢, 3♢], [J♢, 2♢], [10♢, 9♢], [10♢, 8♢], [10♢, 7♢], [10♢, 6♢], [10♢, 5♢], [10♢, 4♢], [10♢, 3♢], [10♢, 2♢], [9♢, 8♢], [9♢, 7♢], [9♢, 6♢], [9♢, 5♢], [9♢, 4♢], [9♢, 3♢], [9♢, 2♢], [8♢, 7♢], [8♢, 6♢], [8♢, 5♢], [8♢, 4♢], [8♢, 3♢], [8♢, 2♢], [7♢, 6♢], [7♢, 5♢], [7♢, 4♢], [7♢, 3♢], [7♢, 2♢], [6♢, 5♢], [6♢, 4♢], [6♢, 3♢], [6♢, 2♢], [5♢, 4♢], [5♢, 3♢], [5♢, 2♢], [4♢, 3♢], [4♢, 2♢], [3♢, 2♢], [A♢, K♥], [A♢, Q♥], [A♢, J♥], [A♢, 10♥], [A♢, 9♥], [A♢, 8♥], [A♢, 7♥], [A♢, 6♥], [A♢, 5♥], [A♢, 4♥], [A♢, 3♥], [A♢, 2♥], [K♢, Q♥], [K♢, J♥], [K♢, 10♥], [K♢, 9♥], [K♢, 8♥], [K♢, 7♥], [K♢, 6♥], [K♢, 5♥], [K♢, 4♥], [K♢, 3♥], [K♢, 2♥], [Q♢, J♥], [Q♢, 10♥], [Q♢, 9♥], [Q♢, 8♥], [Q♢, 7♥], [Q♢, 6♥], [Q♢, 5♥], [Q♢, 4♥], [Q♢, 3♥], [Q♢, 2♥], [J♢, 10♥], [J♢, 9♥], [J♢, 8♥], [J♢, 7♥], [J♢, 6♥], [J♢, 5♥], [J♢, 4♥], [J♢, 3♥], [J♢, 2♥], [10♢, 9♥], [10♢, 8♥], [10♢, 7♥], [10♢, 6♥], [10♢, 5♥], [10♢, 4♥], [10♢, 3♥], [10♢, 2♥], [9♢, 8♥], [9♢, 7♥], [9♢, 6♥], [9♢, 5♥], [9♢, 4♥], [9♢, 3♥], [9♢, 2♥], [8♢, 7♥], [8♢, 6♥], [8♢, 5♥], [8♢, 4♥], [8♢, 3♥], [8♢, 2♥], [7♢, 6♥], [7♢, 5♥], [7♢, 4♥], [7♢, 3♥], [7♢, 2♥], [6♢, 5♥], [6♢, 4♥], [6♢, 3♥], [6♢, 2♥], [5♢, 4♥], [5♢, 3♥], [5♢, 2♥], [4♢, 3♥], [4♢, 2♥], [3♢, 2♥], [A♢, A♥], [K♢, K♥], [Q♢, Q♥], [J♢, J♥], [10♢, 10♥], [9♢, 9♥], [8♢, 8♥], [7♢, 7♥], [6♢, 6♥], [5♢, 5♥], [4♢, 4♥], [3♢, 3♥], [2♢, 2♥]]]\n"
     ]
    },
    {
     "data": {
      "text/plain": [
       "2"
      ]
     },
     "execution_count": 19,
     "metadata": {},
     "output_type": "execute_result"
    }
   ],
   "source": [
    "hands = [[], []]\n",
    "suits = [[SUITS[0], SUITS[2]], [SUITS[3], SUITS[1]]]\n",
    "for k in [0, 1]:\n",
    "    # suited\n",
    "    for i in range(13):\n",
    "        for j in range(i+1, 13):\n",
    "            hand = [Card(suits[k][0], VALUES[i]), Card(suits[k][0], VALUES[j])]\n",
    "            hands[k].append(hand)\n",
    "    # offsuit\n",
    "    for i in range(13):\n",
    "        for j in range(i+1, 13):\n",
    "            hand = [Card(suits[k][0], VALUES[i]), Card(suits[k][1], VALUES[j])]\n",
    "            hands[k].append(hand)\n",
    "    # pairs\n",
    "    for v in VALUES:\n",
    "        hand = [Card(suits[k][0], v), Card(SUITS[1], v)]\n",
    "        hands[k].append(hand)\n",
    "print(hands)\n",
    "len(hands)"
   ]
  },
  {
   "cell_type": "code",
   "execution_count": 20,
   "metadata": {},
   "outputs": [
    {
     "data": {
      "text/plain": [
       "array([[0.5, 0. , 0. , 0. , 0. ],\n",
       "       [0. , 0.5, 0. , 0. , 0. ],\n",
       "       [0. , 0. , 0.5, 0. , 0. ],\n",
       "       [0. , 0. , 0. , 0.5, 0. ],\n",
       "       [0. , 0. , 0. , 0. , 0.5]])"
      ]
     },
     "execution_count": 20,
     "metadata": {},
     "output_type": "execute_result"
    }
   ],
   "source": [
    "0.5*np.identity(5)"
   ]
  },
  {
   "cell_type": "code",
   "execution_count": 21,
   "metadata": {},
   "outputs": [],
   "source": [
    "deck = Deck()\n",
    "hand1 = [Card(SUITS[0], VALUES[0]), Card(SUITS[0], VALUES[1])]\n",
    "# deck.simulate_hands(hand1, hand2, n = 100):\n",
    "    "
   ]
  },
  {
   "cell_type": "code",
   "execution_count": null,
   "metadata": {},
   "outputs": [],
   "source": [
    "winrates = 0.5*np.indentity(169)\n",
    "n = 100\n",
    "for i, hand1 in enumerate(hands[0]):\n",
    "    for j, hand2 in enumerate(hands[1]):\n",
    "        if i == j:\n",
    "            continue\n",
    "        winrates[i, j] = simulate_hands(hand1, hand2, n)\n",
    "        winrates[j, i] = 1 - winrates[i, j]\n",
    "print(winrates)"
   ]
  }
 ],
 "metadata": {
  "kernelspec": {
   "display_name": "Python 3",
   "language": "python",
   "name": "python3"
  },
  "language_info": {
   "codemirror_mode": {
    "name": "ipython",
    "version": 3
   },
   "file_extension": ".py",
   "mimetype": "text/x-python",
   "name": "python",
   "nbconvert_exporter": "python",
   "pygments_lexer": "ipython3",
   "version": "3.11.2"
  }
 },
 "nbformat": 4,
 "nbformat_minor": 2
}
